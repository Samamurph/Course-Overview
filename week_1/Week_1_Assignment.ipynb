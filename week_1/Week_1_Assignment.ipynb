{
 "cells": [
  {
   "cell_type": "markdown",
   "metadata": {},
   "source": [
    "## Week 1 Assignment"
   ]
  },
  {
   "cell_type": "code",
   "execution_count": 13,
   "metadata": {},
   "outputs": [
    {
     "name": "stdout",
     "output_type": "stream",
     "text": [
      "Enter how many gallons of gasoline: 11\n",
      "11 gallons\n",
      "Equivalent number of liters:  41.6394\n",
      "Number of barrels of oil required to produce it:  0.56 barrels\n",
      "Price: $ 40.15\n"
     ]
    }
   ],
   "source": [
    "#Gas Pump Informer Assignment \n",
    "\n",
    "gallon = input(\"Enter how many gallons of gasoline: \") \n",
    "liters = float(gallon) * 3.7854\n",
    "barrel = float(gallon) / 19.5\n",
    "price = float(gallon) * 3.65\n",
    "\n",
    "\n",
    "print(gallon, \"gallons\")\n",
    "print(\"Equivalent number of liters: \", liters)\n",
    "print(\"Number of barrels of oil required to produce it: \", round(barrel, 2), \"barrels\")\n",
    "print(\"Price: $\", price)"
   ]
  },
  {
   "cell_type": "code",
   "execution_count": 61,
   "metadata": {},
   "outputs": [
    {
     "name": "stdout",
     "output_type": "stream",
     "text": [
      "What is your name?: Sam\n",
      "Amsay\n"
     ]
    }
   ],
   "source": [
    "# Pig Latin Translator\n",
    "name = input(\"What is your name?: \")\n",
    "\n",
    "name = name[1:] + name[0]\n",
    "\n",
    "print(name[0].upper() + name[1:].lower() + \"ay\")"
   ]
  },
  {
   "cell_type": "code",
   "execution_count": 72,
   "metadata": {},
   "outputs": [
    {
     "name": "stdout",
     "output_type": "stream",
     "text": [
      "What is the value of a?: 8\n",
      "What is the value of b?: 23\n",
      "The arithmetic mean is:  15.5\n",
      "The geometric mean is:  13.565\n",
      "The Root-Mean-Square is:  24.352\n"
     ]
    }
   ],
   "source": [
    "#Number Averager\n",
    "import math \n",
    "\n",
    "a = float(input(\"What is the value of a?: \"))\n",
    "b = float(input(\"What is the value of b?: \"))\n",
    "\n",
    "A_mean = ((a + b) / 2)\n",
    "G_mean = math.sqrt(a * b)\n",
    "R_mean = math.sqrt((a * a) + (b * b))\n",
    "\n",
    "print(\"The arithmetic mean is: \", A_mean)\n",
    "print(\"The geometric mean is: \", round(G_mean,3))\n",
    "print(\"The Root-Mean-Square is: \", round(R_mean,3))"
   ]
  },
  {
   "cell_type": "markdown",
   "metadata": {},
   "source": [
    "### 1. Gas Pump Informer\n",
    "\n",
    "Write a script that prompts the user for a number of gallons of gasoline. Reprint that value, along with its conversion to other measurements:\n",
    "\n",
    "- Equivalent number of liters\n",
    "- Number of barrels of oil required to produce it\n",
    "- Price in U.S. dollars\n",
    "\n",
    "Figures to use:\n",
    "\n",
    "- 1 gallon is equivalent to 3.7854 liters.\n",
    "- 1 barrel of oil produces 19.5 gallons of gas.\n",
    "- The average price of gas is approximately $3.65."
   ]
  },
  {
   "cell_type": "markdown",
   "metadata": {},
   "source": [
    "### 2. Pig Latin Translator\n",
    "\n",
    "Write a script that translates names into a (simplified) Pig Latin. Have your script ask the user for his or her name. Move the first letter to the end of the name and add the letters \"ay\".  Make sure that only the first letter of your output is capitalized. Your script should re-create the following behavior exactly:\n",
    "\n",
    "```\n",
    "Enter your name: Paul\n",
    "Aulpay\n",
    "```"
   ]
  },
  {
   "cell_type": "markdown",
   "metadata": {},
   "source": [
    "###3. Number Averager\n",
    "\n",
    "Write a script that prompts the user for two numbers, a and b.  Output the the following types of averages:\n",
    "\n",
    "- The arithmetic mean $(a + b) / 2 $\n",
    "- The geometric mean $\\sqrt{ab}$\n",
    "- The root-mean-square $\\sqrt{a^2 + b^2}$"
   ]
  }
 ],
 "metadata": {
  "kernelspec": {
   "display_name": "Python 3 (ipykernel)",
   "language": "python",
   "name": "python3"
  },
  "language_info": {
   "codemirror_mode": {
    "name": "ipython",
    "version": 3
   },
   "file_extension": ".py",
   "mimetype": "text/x-python",
   "name": "python",
   "nbconvert_exporter": "python",
   "pygments_lexer": "ipython3",
   "version": "3.10.9"
  }
 },
 "nbformat": 4,
 "nbformat_minor": 1
}
